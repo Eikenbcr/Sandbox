{
 "cells": [
  {
   "cell_type": "code",
   "execution_count": 1,
   "id": "3afb5a66-e430-4143-8a0c-5fae201754a5",
   "metadata": {},
   "outputs": [],
   "source": [
    "import torch\n",
    "import numpy as np\n",
    "\n",
    "device = torch.device(\"cuda\" if torch.cuda.is_available() else \"cpu\")"
   ]
  },
  {
   "cell_type": "markdown",
   "id": "47c8a4c2-0649-49ce-a6b3-9eac7059eea3",
   "metadata": {},
   "source": [
    "## Create a tensor directly from a datalist"
   ]
  },
  {
   "cell_type": "code",
   "execution_count": 2,
   "id": "ad021fa3-3cad-40ac-bf8d-fe6e55d02a98",
   "metadata": {},
   "outputs": [
    {
     "name": "stdout",
     "output_type": "stream",
     "text": [
      "tensor([[1, 2],\n",
      "        [3, 4]])\n"
     ]
    }
   ],
   "source": [
    "data = [[1,2],[3,4]]\n",
    "data_tensor = torch.tensor(data)\n",
    "\n",
    "print(data_tensor)"
   ]
  },
  {
   "cell_type": "markdown",
   "id": "97e5c768-a0c9-43e9-9956-9a357053c0be",
   "metadata": {},
   "source": [
    "## Create a tensor from a NumPy array"
   ]
  },
  {
   "cell_type": "code",
   "execution_count": 3,
   "id": "2465807a-9aae-4962-b4cd-53949bcc5fb8",
   "metadata": {},
   "outputs": [
    {
     "name": "stdout",
     "output_type": "stream",
     "text": [
      "tensor([[5, 6],\n",
      "        [7, 8]], dtype=torch.int32)\n"
     ]
    }
   ],
   "source": [
    "data = [[5,6],[7,8]]\n",
    "data_np = np.array(data)\n",
    "data_tensor = torch.from_numpy(data_np)\n",
    "\n",
    "print(data_tensor)"
   ]
  },
  {
   "cell_type": "markdown",
   "id": "b9150164-8825-4463-906b-9d9159f0d423",
   "metadata": {},
   "source": [
    "## Create a tensor with same properties (shape, datatype) of an argument tensor"
   ]
  },
  {
   "cell_type": "code",
   "execution_count": 4,
   "id": "43b84bdc-3f5f-42fd-9fd4-ab06388bf34a",
   "metadata": {},
   "outputs": [
    {
     "name": "stdout",
     "output_type": "stream",
     "text": [
      "Ones Tensor: \n",
      " tensor([[1, 1],\n",
      "        [1, 1]], dtype=torch.int32) \n",
      "\n",
      "Random Tensor: \n",
      " tensor([[0.3498, 0.6756],\n",
      "        [0.9089, 0.0811]]) \n",
      "\n"
     ]
    }
   ],
   "source": [
    "data = [[5,6],[7,8]]\n",
    "data_np = np.array(data)\n",
    "data_tensor = torch.from_numpy(data_np)\n",
    "\n",
    "\n",
    "# A tensor of the same shape as data_tensor with a 1 as every element\n",
    "ones_tensor = torch.ones_like(data_tensor) # retains the properties of x_data\n",
    "print(f\"Ones Tensor: \\n {ones_tensor} \\n\")\n",
    "\n",
    "# A tensor of the same shape as data_tensor with a random number as every element\n",
    "random_tensor = torch.rand_like(data_tensor, dtype=torch.float) # overrides the datatype of x_data\n",
    "print(f\"Random Tensor: \\n {random_tensor} \\n\")"
   ]
  },
  {
   "cell_type": "markdown",
   "id": "9c7f7c83-58a7-47f4-affc-b51c5f6abb4e",
   "metadata": {},
   "source": [
    "## Create a tensor with random or constant values"
   ]
  },
  {
   "cell_type": "code",
   "execution_count": 5,
   "id": "917fd5d5-fa86-42be-8647-c2a6d6b112d3",
   "metadata": {},
   "outputs": [
    {
     "name": "stdout",
     "output_type": "stream",
     "text": [
      "Random Tensor: \n",
      " tensor([[0.2965, 0.8096, 0.4676],\n",
      "        [0.5550, 0.5837, 0.2491]]) \n",
      "\n",
      "Ones Tensor: \n",
      " tensor([[1., 1., 1.],\n",
      "        [1., 1., 1.]]) \n",
      "\n",
      "Zeros Tensor: \n",
      " tensor([[0., 0., 0.],\n",
      "        [0., 0., 0.]])\n"
     ]
    }
   ],
   "source": [
    "shape = (2,3)\n",
    "\n",
    "rand_tensor = torch.rand(shape)\n",
    "ones_tensor = torch.ones(shape)\n",
    "zeros_tensor = torch.zeros(shape)\n",
    "\n",
    "print(f\"Random Tensor: \\n {rand_tensor} \\n\")\n",
    "print(f\"Ones Tensor: \\n {ones_tensor} \\n\")\n",
    "print(f\"Zeros Tensor: \\n {zeros_tensor}\")"
   ]
  },
  {
   "cell_type": "markdown",
   "id": "7bef8ff3-f38d-4373-bc4f-029b0c5aea10",
   "metadata": {},
   "source": [
    "## Commands to see tensor attributes"
   ]
  },
  {
   "cell_type": "code",
   "execution_count": 6,
   "id": "a05b6aba-3fce-4853-a3a9-a053e6915ffe",
   "metadata": {},
   "outputs": [
    {
     "name": "stdout",
     "output_type": "stream",
     "text": [
      "Shape of tensor: torch.Size([3, 4])\n",
      "Datatype of tensor: torch.float32\n",
      "Device tensor is stored on: cpu\n"
     ]
    }
   ],
   "source": [
    "tensor = torch.rand(3,4)\n",
    "\n",
    "print(f\"Shape of tensor: {tensor.shape}\")\n",
    "print(f\"Datatype of tensor: {tensor.dtype}\")\n",
    "print(f\"Device tensor is stored on: {tensor.device}\")"
   ]
  },
  {
   "cell_type": "markdown",
   "id": "8c56f74d-a67f-41de-ac81-e0d6c56a18d4",
   "metadata": {},
   "source": [
    "## Commands to move tensor to GPU"
   ]
  },
  {
   "cell_type": "code",
   "execution_count": 7,
   "id": "594d4fd6-ddac-4831-9d76-7e67ab70234f",
   "metadata": {},
   "outputs": [
    {
     "name": "stdout",
     "output_type": "stream",
     "text": [
      "Device tensor is stored on: cuda:0\n"
     ]
    }
   ],
   "source": [
    "tensor = torch.rand(3,4)\n",
    "\n",
    "if torch.cuda.is_available():\n",
    "    tensor = tensor.to(\"cuda\")\n",
    "\n",
    "print(f\"Device tensor is stored on: {tensor.device}\")"
   ]
  },
  {
   "cell_type": "markdown",
   "id": "98ef98ea-885f-43a1-8e2b-9b0b162aff9e",
   "metadata": {},
   "source": [
    "## Indexing/Slicing commands"
   ]
  },
  {
   "cell_type": "code",
   "execution_count": 8,
   "id": "17ffdd77-28b7-4a06-aaae-dd72e48f08dd",
   "metadata": {},
   "outputs": [
    {
     "name": "stdout",
     "output_type": "stream",
     "text": [
      "First row: tensor([0.8040, 0.6621, 0.7070, 0.8281])\n",
      "First column: tensor([0.8040, 0.0897, 0.7204, 0.5998])\n",
      "Last column: tensor([0.8281, 0.0015, 0.2047, 0.3415])\n",
      "tensor([[0.8040, 0.6621, 0.7070, 0.8281],\n",
      "        [0.0897, 0.3181, 0.4946, 0.0015],\n",
      "        [0.7204, 0.0140, 0.1887, 0.2047],\n",
      "        [0.5998, 0.9664, 0.4945, 0.3415]])\n",
      "tensor([[0.8040, 0.0000, 0.7070, 0.8281],\n",
      "        [0.0897, 0.0000, 0.4946, 0.0015],\n",
      "        [0.7204, 0.0000, 0.1887, 0.2047],\n",
      "        [0.5998, 0.0000, 0.4945, 0.3415]])\n"
     ]
    }
   ],
   "source": [
    "tensor = torch.rand(4, 4)\n",
    "print(f\"First row: {tensor[0]}\")\n",
    "print(f\"First column: {tensor[:, 0]}\")\n",
    "print(f\"Last column: {tensor[:, -1]}\")\n",
    "print(tensor)\n",
    "\n",
    "tensor[:,1] = 0\n",
    "print(tensor)"
   ]
  },
  {
   "cell_type": "markdown",
   "id": "8eb8113d-d204-4dca-ac64-5fd6efaf2b63",
   "metadata": {},
   "source": [
    "## Concatenate tensors"
   ]
  },
  {
   "cell_type": "code",
   "execution_count": 9,
   "id": "8184960e-a739-48f0-b8b8-f2cea5602d97",
   "metadata": {},
   "outputs": [
    {
     "name": "stdout",
     "output_type": "stream",
     "text": [
      "tensor([[1, 1],\n",
      "        [1, 1]])\n",
      "tensor([[2, 2],\n",
      "        [2, 2]])\n",
      "tensor([[1, 1],\n",
      "        [1, 1],\n",
      "        [2, 2],\n",
      "        [2, 2]])\n",
      "tensor([[1, 1, 2, 2],\n",
      "        [1, 1, 2, 2]])\n"
     ]
    }
   ],
   "source": [
    "tensor1 = torch.tensor([[1,1],[1,1]])\n",
    "tensor2 = torch.tensor([[2,2],[2,2]])\n",
    "print(tensor1)\n",
    "print(tensor2)\n",
    "\n",
    "#concatenate tensors along the rows (it stacks them vertically)\n",
    "tensor4x2 = torch.cat([tensor1,tensor2], dim=0)\n",
    "print(tensor4x2)\n",
    "\n",
    "#concatenate tensors along the columns (combine them horizontally)\n",
    "tensor2x4 = torch.cat([tensor1,tensor2], dim=1)\n",
    "print(tensor2x4)"
   ]
  },
  {
   "cell_type": "markdown",
   "id": "c7c5e7cb-8fca-486f-bb91-ea0e65c97ec8",
   "metadata": {},
   "source": [
    "## Operations on tensors"
   ]
  },
  {
   "cell_type": "markdown",
   "id": "d755062b-c07d-492e-9cad-60e363410898",
   "metadata": {},
   "source": [
    "### Matrix multiplication between tensor and its transpose"
   ]
  },
  {
   "cell_type": "code",
   "execution_count": 10,
   "id": "4800e067-4346-483e-81cb-0a7b1f3155f9",
   "metadata": {},
   "outputs": [
    {
     "name": "stdout",
     "output_type": "stream",
     "text": [
      "tensor([[0.7946, 0.9269, 0.0680, 0.6124],\n",
      "        [0.6958, 0.5070, 0.6627, 0.3212],\n",
      "        [0.0978, 0.3712, 0.2134, 0.1978],\n",
      "        [0.4579, 0.2967, 0.6625, 0.5410]])\n"
     ]
    }
   ],
   "source": [
    "tensor = torch.rand(4, 4)\n",
    "print(tensor)"
   ]
  },
  {
   "cell_type": "code",
   "execution_count": 18,
   "id": "6b95c723-073d-45e6-b858-d47e55d92293",
   "metadata": {},
   "outputs": [
    {
     "name": "stdout",
     "output_type": "stream",
     "text": [
      "tensor([[0.2002, 0.4514, 0.5444, 0.7513],\n",
      "        [0.9484, 0.7454, 0.3250, 0.7731],\n",
      "        [0.7426, 0.2943, 0.5628, 0.0184],\n",
      "        [0.7168, 0.9783, 0.4145, 0.9788]])\n"
     ]
    }
   ],
   "source": [
    "transpose_tensor = tensor.T\n",
    "print(transpose_tensor)"
   ]
  },
  {
   "cell_type": "code",
   "execution_count": 19,
   "id": "1d5d1348-ce22-40ee-9773-1eb8a65daa8b",
   "metadata": {},
   "outputs": [
    {
     "name": "stdout",
     "output_type": "stream",
     "text": [
      "tensor([[2.0048, 1.7171, 1.1323, 1.5989],\n",
      "        [1.7171, 1.8030, 1.0591, 1.8784],\n",
      "        [1.1323, 1.0591, 0.8905, 1.0763],\n",
      "        [1.5989, 1.8784, 1.0763, 2.1205]])\n"
     ]
    }
   ],
   "source": [
    "y1 = tensor @ transpose_tensor\n",
    "print(y1)"
   ]
  },
  {
   "cell_type": "code",
   "execution_count": 20,
   "id": "7b66c6be-fb77-49b3-befa-b859b2322417",
   "metadata": {},
   "outputs": [
    {
     "name": "stdout",
     "output_type": "stream",
     "text": [
      "tensor([[2.0048, 1.7171, 1.1323, 1.5989],\n",
      "        [1.7171, 1.8030, 1.0591, 1.8784],\n",
      "        [1.1323, 1.0591, 0.8905, 1.0763],\n",
      "        [1.5989, 1.8784, 1.0763, 2.1205]])\n"
     ]
    }
   ],
   "source": [
    "y2 = tensor.matmul(tensor.T)\n",
    "print(y2)"
   ]
  },
  {
   "cell_type": "code",
   "execution_count": 23,
   "id": "983bb61a-ce87-4ccf-970f-d2bd2949b0f6",
   "metadata": {},
   "outputs": [
    {
     "name": "stdout",
     "output_type": "stream",
     "text": [
      "tensor([[0.2065, 0.4963, 0.4857, 0.7954],\n",
      "        [0.1232, 0.1580, 0.2984, 0.7954],\n",
      "        [0.4056, 0.4758, 0.2849, 0.5338],\n",
      "        [0.4144, 0.3400, 0.8985, 0.3750]])\n",
      "tensor([[2.0048, 1.7171, 1.1323, 1.5989],\n",
      "        [1.7171, 1.8030, 1.0591, 1.8784],\n",
      "        [1.1323, 1.0591, 0.8905, 1.0763],\n",
      "        [1.5989, 1.8784, 1.0763, 2.1205]])\n"
     ]
    }
   ],
   "source": [
    "y3 = torch.rand_like(y1)\n",
    "print(y3)\n",
    "torch.matmul(tensor, tensor.T, out=y3)\n",
    "print(y3)"
   ]
  },
  {
   "cell_type": "markdown",
   "id": "109331aa-ddf1-43da-b386-4040e428cd10",
   "metadata": {},
   "source": [
    "**y1, y2, and y3 are mathematically equivalent operations**"
   ]
  },
  {
   "cell_type": "markdown",
   "id": "10fda12b-7f9c-41a4-948a-39de9a43ef59",
   "metadata": {},
   "source": [
    "### Element-wise product between tensor and itself"
   ]
  },
  {
   "cell_type": "code",
   "execution_count": 12,
   "id": "6d6db9a8-e966-448b-be34-7cc0e45ed0af",
   "metadata": {},
   "outputs": [
    {
     "name": "stdout",
     "output_type": "stream",
     "text": [
      "tensor([[0.7946, 0.9269, 0.0680, 0.6124],\n",
      "        [0.6958, 0.5070, 0.6627, 0.3212],\n",
      "        [0.0978, 0.3712, 0.2134, 0.1978],\n",
      "        [0.4579, 0.2967, 0.6625, 0.5410]])\n",
      "tensor([[0.6313, 0.8591, 0.0046, 0.3750],\n",
      "        [0.4841, 0.2570, 0.4392, 0.1032],\n",
      "        [0.0096, 0.1378, 0.0455, 0.0391],\n",
      "        [0.2097, 0.0880, 0.4389, 0.2927]])\n"
     ]
    }
   ],
   "source": [
    "print(tensor)\n",
    "z1 = tensor * tensor\n",
    "print(z1)"
   ]
  },
  {
   "cell_type": "code",
   "execution_count": 13,
   "id": "44fc5231-895d-43f9-945f-72ebad589646",
   "metadata": {},
   "outputs": [
    {
     "name": "stdout",
     "output_type": "stream",
     "text": [
      "tensor([[0.6313, 0.8591, 0.0046, 0.3750],\n",
      "        [0.4841, 0.2570, 0.4392, 0.1032],\n",
      "        [0.0096, 0.1378, 0.0455, 0.0391],\n",
      "        [0.2097, 0.0880, 0.4389, 0.2927]])\n"
     ]
    }
   ],
   "source": [
    "z2 = tensor.mul(tensor)\n",
    "print(z2)"
   ]
  },
  {
   "cell_type": "code",
   "execution_count": 14,
   "id": "ed3f5311-2999-4a22-8053-91e8d2bd3cd6",
   "metadata": {},
   "outputs": [
    {
     "name": "stdout",
     "output_type": "stream",
     "text": [
      "tensor([[0.1709, 0.7444, 0.0847, 0.4341],\n",
      "        [0.9698, 0.6250, 0.5601, 0.4698],\n",
      "        [0.3236, 0.0618, 0.4759, 0.9792],\n",
      "        [0.1131, 0.0606, 0.4286, 0.0376]])\n",
      "tensor([[0.6313, 0.8591, 0.0046, 0.3750],\n",
      "        [0.4841, 0.2570, 0.4392, 0.1032],\n",
      "        [0.0096, 0.1378, 0.0455, 0.0391],\n",
      "        [0.2097, 0.0880, 0.4389, 0.2927]])\n"
     ]
    }
   ],
   "source": [
    "z3 = torch.rand_like(tensor)\n",
    "print(z3)\n",
    "torch.mul(tensor, tensor, out=z3)\n",
    "print(z3)"
   ]
  },
  {
   "cell_type": "markdown",
   "id": "02030d50-edb4-419c-bfc9-c857c3b1f759",
   "metadata": {},
   "source": [
    "**z1, z2, and z3 are mathematically equivalent operations**"
   ]
  },
  {
   "cell_type": "markdown",
   "id": "567b9de3-f10e-430f-aa33-07ff046b0a2d",
   "metadata": {},
   "source": [
    "### Aggregate all values of a tensor into one value"
   ]
  },
  {
   "cell_type": "code",
   "execution_count": 17,
   "id": "42c94d0f-fb41-4e26-af53-e1fdf2453844",
   "metadata": {},
   "outputs": [
    {
     "name": "stdout",
     "output_type": "stream",
     "text": [
      "tensor(7.4266)\n",
      "7.426631450653076 <class 'float'>\n"
     ]
    }
   ],
   "source": [
    "agg = tensor.sum()\n",
    "print(agg)\n",
    "agg_item = agg.item()\n",
    "print(agg_item, type(agg_item))"
   ]
  },
  {
   "cell_type": "markdown",
   "id": "e94b69ae-fe99-4103-8a81-40f86bd2aaa5",
   "metadata": {},
   "source": [
    "### In-place operations"
   ]
  },
  {
   "cell_type": "code",
   "execution_count": 18,
   "id": "102bde85-af06-4202-af2e-d7107411c2c0",
   "metadata": {},
   "outputs": [
    {
     "name": "stdout",
     "output_type": "stream",
     "text": [
      "tensor([[0.7946, 0.9269, 0.0680, 0.6124],\n",
      "        [0.6958, 0.5070, 0.6627, 0.3212],\n",
      "        [0.0978, 0.3712, 0.2134, 0.1978],\n",
      "        [0.4579, 0.2967, 0.6625, 0.5410]]) \n",
      "\n",
      "tensor([[5.7946, 5.9269, 5.0680, 5.6124],\n",
      "        [5.6958, 5.5070, 5.6627, 5.3212],\n",
      "        [5.0978, 5.3712, 5.2134, 5.1978],\n",
      "        [5.4579, 5.2967, 5.6625, 5.5410]])\n"
     ]
    }
   ],
   "source": [
    "print(f\"{tensor} \\n\")\n",
    "tensor.add_(5)\n",
    "print(tensor)"
   ]
  },
  {
   "cell_type": "markdown",
   "id": "68fa5f3a-2ae5-4c86-b9ac-e60d1f42a630",
   "metadata": {},
   "source": [
    "## Bridge tensor with NumPy"
   ]
  },
  {
   "cell_type": "code",
   "execution_count": 20,
   "id": "d62eee86-88e1-40a6-89e8-f0877ed64c99",
   "metadata": {},
   "outputs": [
    {
     "name": "stdout",
     "output_type": "stream",
     "text": [
      "t: tensor([1., 1., 1., 1., 1.])\n",
      "n: [1. 1. 1. 1. 1.]\n"
     ]
    }
   ],
   "source": [
    "t = torch.ones(5)\n",
    "print(f\"t: {t}\")\n",
    "n = t.numpy()\n",
    "print(f\"n: {n}\")"
   ]
  },
  {
   "cell_type": "code",
   "execution_count": 21,
   "id": "b7c37d70-0d8c-4d57-be46-f2b81cb0f87c",
   "metadata": {},
   "outputs": [
    {
     "name": "stdout",
     "output_type": "stream",
     "text": [
      "t: tensor([2., 2., 2., 2., 2.])\n",
      "n: [2. 2. 2. 2. 2.]\n"
     ]
    }
   ],
   "source": [
    "t.add_(1)\n",
    "print(f\"t: {t}\")\n",
    "print(f\"n: {n}\")"
   ]
  },
  {
   "cell_type": "markdown",
   "id": "3f3ab08a-e42f-4879-9322-b6837469d915",
   "metadata": {},
   "source": [
    "**there was an immediate change in n because t and n share memory**"
   ]
  },
  {
   "cell_type": "code",
   "execution_count": 25,
   "id": "1625d7ee-b85f-40de-8ad1-4957c8c2e934",
   "metadata": {},
   "outputs": [
    {
     "name": "stdout",
     "output_type": "stream",
     "text": [
      "n: [1. 1. 1. 1. 1.]\n",
      "t: tensor([1., 1., 1., 1., 1.], dtype=torch.float64)\n"
     ]
    }
   ],
   "source": [
    "n = np.ones(5)\n",
    "print(f\"n: {n}\")\n",
    "t = torch.from_numpy(n)\n",
    "print(f\"t: {t}\")"
   ]
  },
  {
   "cell_type": "code",
   "execution_count": 26,
   "id": "b3e6f162-823a-43b8-aee9-0ca0afddc7d8",
   "metadata": {},
   "outputs": [
    {
     "name": "stdout",
     "output_type": "stream",
     "text": [
      "n: [2. 2. 2. 2. 2.]\n",
      "t: tensor([2., 2., 2., 2., 2.], dtype=torch.float64)\n"
     ]
    }
   ],
   "source": [
    "np.add(n, 1, out=n)\n",
    "print(f\"n: {n}\")\n",
    "print(f\"t: {t}\")"
   ]
  },
  {
   "cell_type": "markdown",
   "id": "f059a941-c4be-469c-8e4d-0b1e231036d1",
   "metadata": {},
   "source": [
    "**there was an immediate change in t because t and n share memory**"
   ]
  },
  {
   "cell_type": "code",
   "execution_count": null,
   "id": "a9ea22db-0f62-46fc-822c-87a6adf8c5c8",
   "metadata": {},
   "outputs": [],
   "source": []
  }
 ],
 "metadata": {
  "kernelspec": {
   "display_name": "Python 3 (ipykernel)",
   "language": "python",
   "name": "python3"
  },
  "language_info": {
   "codemirror_mode": {
    "name": "ipython",
    "version": 3
   },
   "file_extension": ".py",
   "mimetype": "text/x-python",
   "name": "python",
   "nbconvert_exporter": "python",
   "pygments_lexer": "ipython3",
   "version": "3.12.5"
  }
 },
 "nbformat": 4,
 "nbformat_minor": 5
}
