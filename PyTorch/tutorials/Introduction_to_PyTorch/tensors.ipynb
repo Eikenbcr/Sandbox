{
 "cells": [
  {
   "cell_type": "code",
   "execution_count": 5,
   "id": "3afb5a66-e430-4143-8a0c-5fae201754a5",
   "metadata": {},
   "outputs": [],
   "source": [
    "import torch\n",
    "import numpy as np\n",
    "\n",
    "device = torch.device(\"cuda\" if torch.cuda.is_available() else \"cpu\")"
   ]
  },
  {
   "cell_type": "markdown",
   "id": "47c8a4c2-0649-49ce-a6b3-9eac7059eea3",
   "metadata": {},
   "source": [
    "## Create a tensor directly from a datalist"
   ]
  },
  {
   "cell_type": "code",
   "execution_count": 8,
   "id": "ad021fa3-3cad-40ac-bf8d-fe6e55d02a98",
   "metadata": {},
   "outputs": [
    {
     "name": "stdout",
     "output_type": "stream",
     "text": [
      "tensor([[1, 2],\n",
      "        [3, 4]])\n"
     ]
    }
   ],
   "source": [
    "data = [[1,2],[3,4]]\n",
    "data_tensor = torch.tensor(data)\n",
    "\n",
    "print(data_tensor)"
   ]
  },
  {
   "cell_type": "markdown",
   "id": "97e5c768-a0c9-43e9-9956-9a357053c0be",
   "metadata": {},
   "source": [
    "## Create a tensor from a NumPy array"
   ]
  },
  {
   "cell_type": "code",
   "execution_count": 10,
   "id": "2465807a-9aae-4962-b4cd-53949bcc5fb8",
   "metadata": {},
   "outputs": [
    {
     "name": "stdout",
     "output_type": "stream",
     "text": [
      "tensor([[5, 6],\n",
      "        [7, 8]], dtype=torch.int32)\n"
     ]
    }
   ],
   "source": [
    "data = [[5,6],[7,8]]\n",
    "data_np = np.array(data)\n",
    "data_tensor = torch.from_numpy(data_np)\n",
    "\n",
    "print(data_tensor)"
   ]
  },
  {
   "cell_type": "markdown",
   "id": "b9150164-8825-4463-906b-9d9159f0d423",
   "metadata": {},
   "source": [
    "## Create a tensor with same properties (shape, datatype) of an argument tensor"
   ]
  },
  {
   "cell_type": "code",
   "execution_count": 14,
   "id": "43b84bdc-3f5f-42fd-9fd4-ab06388bf34a",
   "metadata": {},
   "outputs": [
    {
     "name": "stdout",
     "output_type": "stream",
     "text": [
      "Ones Tensor: \n",
      " tensor([[1, 1],\n",
      "        [1, 1]], dtype=torch.int32) \n",
      "\n",
      "Random Tensor: \n",
      " tensor([[0.4840, 0.5734],\n",
      "        [0.9096, 0.7322]]) \n",
      "\n"
     ]
    }
   ],
   "source": [
    "data = [[5,6],[7,8]]\n",
    "data_np = np.array(data)\n",
    "data_tensor = torch.from_numpy(data_np)\n",
    "\n",
    "\n",
    "# A tensor of the same shape as data_tensor with a 1 as every element\n",
    "ones_tensor = torch.ones_like(data_tensor) # retains the properties of x_data\n",
    "print(f\"Ones Tensor: \\n {ones_tensor} \\n\")\n",
    "\n",
    "# A tensor of the same shape as data_tensor with a random number as every element\n",
    "random_tensor = torch.rand_like(x_data, dtype=torch.float) # overrides the datatype of x_data\n",
    "print(f\"Random Tensor: \\n {random_tensor} \\n\")"
   ]
  },
  {
   "cell_type": "markdown",
   "id": "9c7f7c83-58a7-47f4-affc-b51c5f6abb4e",
   "metadata": {},
   "source": [
    "## Create a tensor with random or constant values"
   ]
  },
  {
   "cell_type": "code",
   "execution_count": 22,
   "id": "917fd5d5-fa86-42be-8647-c2a6d6b112d3",
   "metadata": {},
   "outputs": [
    {
     "name": "stdout",
     "output_type": "stream",
     "text": [
      "Random Tensor: \n",
      " tensor([[0.3720, 0.3423, 0.1111],\n",
      "        [0.3384, 0.2419, 0.3038]]) \n",
      "\n",
      "Ones Tensor: \n",
      " tensor([[1., 1., 1.],\n",
      "        [1., 1., 1.]]) \n",
      "\n",
      "Zeros Tensor: \n",
      " tensor([[0., 0., 0.],\n",
      "        [0., 0., 0.]])\n"
     ]
    }
   ],
   "source": [
    "shape = (2,3)\n",
    "\n",
    "rand_tensor = torch.rand(shape)\n",
    "ones_tensor = torch.ones(shape)\n",
    "zeros_tensor = torch.zeros(shape)\n",
    "\n",
    "print(f\"Random Tensor: \\n {rand_tensor} \\n\")\n",
    "print(f\"Ones Tensor: \\n {ones_tensor} \\n\")\n",
    "print(f\"Zeros Tensor: \\n {zeros_tensor}\")"
   ]
  },
  {
   "cell_type": "markdown",
   "id": "7bef8ff3-f38d-4373-bc4f-029b0c5aea10",
   "metadata": {},
   "source": [
    "## Commands to see tensor attributes"
   ]
  },
  {
   "cell_type": "code",
   "execution_count": 23,
   "id": "a05b6aba-3fce-4853-a3a9-a053e6915ffe",
   "metadata": {},
   "outputs": [
    {
     "name": "stdout",
     "output_type": "stream",
     "text": [
      "Shape of tensor: torch.Size([3, 4])\n",
      "Datatype of tensor: torch.float32\n",
      "Device tensor is stored on: cpu\n"
     ]
    }
   ],
   "source": [
    "tensor = torch.rand(3,4)\n",
    "\n",
    "print(f\"Shape of tensor: {tensor.shape}\")\n",
    "print(f\"Datatype of tensor: {tensor.dtype}\")\n",
    "print(f\"Device tensor is stored on: {tensor.device}\")"
   ]
  },
  {
   "cell_type": "markdown",
   "id": "8c56f74d-a67f-41de-ac81-e0d6c56a18d4",
   "metadata": {},
   "source": [
    "## Commands to move tensor to GPU"
   ]
  },
  {
   "cell_type": "code",
   "execution_count": 25,
   "id": "594d4fd6-ddac-4831-9d76-7e67ab70234f",
   "metadata": {},
   "outputs": [
    {
     "name": "stdout",
     "output_type": "stream",
     "text": [
      "Device tensor is stored on: cuda:0\n"
     ]
    }
   ],
   "source": [
    "tensor = torch.rand(3,4)\n",
    "\n",
    "if torch.cuda.is_available():\n",
    "    tensor = tensor.to(\"cuda\")\n",
    "\n",
    "print(f\"Device tensor is stored on: {tensor.device}\")"
   ]
  },
  {
   "cell_type": "markdown",
   "id": "98ef98ea-885f-43a1-8e2b-9b0b162aff9e",
   "metadata": {},
   "source": [
    "## Indexing/Slicing commands"
   ]
  },
  {
   "cell_type": "code",
   "execution_count": 42,
   "id": "17ffdd77-28b7-4a06-aaae-dd72e48f08dd",
   "metadata": {},
   "outputs": [
    {
     "name": "stdout",
     "output_type": "stream",
     "text": [
      "First row: tensor([0.3525, 0.3297, 0.1329, 0.5187])\n",
      "First column: tensor([0.3525, 0.7371, 0.5037, 0.8047])\n",
      "Last column: tensor([0.5187, 0.6101, 0.2881, 0.6268])\n",
      "tensor([[0.3525, 0.3297, 0.1329, 0.5187],\n",
      "        [0.7371, 0.7154, 0.1549, 0.6101],\n",
      "        [0.5037, 0.2112, 0.0457, 0.2881],\n",
      "        [0.8047, 0.1421, 0.1409, 0.6268]])\n",
      "tensor([[0.3525, 0.0000, 0.1329, 0.5187],\n",
      "        [0.7371, 0.0000, 0.1549, 0.6101],\n",
      "        [0.5037, 0.0000, 0.0457, 0.2881],\n",
      "        [0.8047, 0.0000, 0.1409, 0.6268]])\n"
     ]
    }
   ],
   "source": [
    "tensor = torch.rand(4, 4)\n",
    "print(f\"First row: {tensor[0]}\")\n",
    "print(f\"First column: {tensor[:, 0]}\")\n",
    "print(f\"Last column: {tensor[:, -1]}\")\n",
    "print(tensor)\n",
    "\n",
    "tensor[:,1] = 0\n",
    "print(tensor)"
   ]
  },
  {
   "cell_type": "markdown",
   "id": "8eb8113d-d204-4dca-ac64-5fd6efaf2b63",
   "metadata": {},
   "source": [
    "## Concatenate tensors"
   ]
  },
  {
   "cell_type": "code",
   "execution_count": 61,
   "id": "8184960e-a739-48f0-b8b8-f2cea5602d97",
   "metadata": {},
   "outputs": [
    {
     "name": "stdout",
     "output_type": "stream",
     "text": [
      "tensor([[1, 1],\n",
      "        [1, 1]])\n",
      "tensor([[2, 2],\n",
      "        [2, 2]])\n",
      "tensor([[1, 1],\n",
      "        [1, 1],\n",
      "        [2, 2],\n",
      "        [2, 2]])\n",
      "tensor([[1, 1, 2, 2],\n",
      "        [1, 1, 2, 2]])\n"
     ]
    }
   ],
   "source": [
    "tensor1 = torch.tensor([[1,1],[1,1]])\n",
    "tensor2 = torch.tensor([[2,2],[2,2]])\n",
    "print(tensor1)\n",
    "print(tensor2)\n",
    "\n",
    "#concatenate tensors along the rows (it stacks them vertically)\n",
    "tensor4x2 = torch.cat([tensor1,tensor2], dim=0)\n",
    "print(tensor4x2)\n",
    "\n",
    "#concatenate tensors along the columns (combine them horizontally)\n",
    "tensor2x4 = torch.cat([tensor1,tensor2], dim=1)\n",
    "print(tensor2x4)"
   ]
  },
  {
   "cell_type": "markdown",
   "id": "c7c5e7cb-8fca-486f-bb91-ea0e65c97ec8",
   "metadata": {},
   "source": [
    "## Operations on tensors"
   ]
  },
  {
   "cell_type": "code",
   "execution_count": null,
   "id": "4800e067-4346-483e-81cb-0a7b1f3155f9",
   "metadata": {},
   "outputs": [],
   "source": []
  }
 ],
 "metadata": {
  "kernelspec": {
   "display_name": "Python 3 (ipykernel)",
   "language": "python",
   "name": "python3"
  },
  "language_info": {
   "codemirror_mode": {
    "name": "ipython",
    "version": 3
   },
   "file_extension": ".py",
   "mimetype": "text/x-python",
   "name": "python",
   "nbconvert_exporter": "python",
   "pygments_lexer": "ipython3",
   "version": "3.12.7"
  }
 },
 "nbformat": 4,
 "nbformat_minor": 5
}
